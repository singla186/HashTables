{
 "cells": [
  {
   "cell_type": "code",
   "execution_count": 17,
   "id": "42040f04",
   "metadata": {
    "scrolled": false
   },
   "outputs": [
    {
     "name": "stdout",
     "output_type": "stream",
     "text": [
      "invalid temp, ignore it\n"
     ]
    },
    {
     "data": {
      "text/plain": [
       "[12, 14, 17, 22, 23, 24, 21, 11, 18, 32]"
      ]
     },
     "execution_count": 17,
     "metadata": {},
     "output_type": "execute_result"
    }
   ],
   "source": [
    "temp = []\n",
    "f = open(\"weather.csv\", \"r\")\n",
    "for line in f:\n",
    "    tokens = line.split(',')\n",
    "    try:\n",
    "       temp.append(int(tokens[1]))\n",
    "    except:\n",
    "        print(\"invalid temp, ignore it\")\n",
    "temp\n",
    "    "
   ]
  },
  {
   "cell_type": "markdown",
   "id": "6d61f271",
   "metadata": {},
   "source": [
    "## nyc_weather.csv contains new york city weather for first few days in the month of January. Write a program that can answer following,\n",
    "#### What was the average temperature in first week of Jan\n",
    "#### What was the maximum temperature in first 10 days of Jan\n",
    " Figure out data structure that is best for this problem"
   ]
  },
  {
   "cell_type": "code",
   "execution_count": 23,
   "id": "b47f9020",
   "metadata": {},
   "outputs": [
    {
     "name": "stdout",
     "output_type": "stream",
     "text": [
      "Average temp of first week  19.0\n"
     ]
    }
   ],
   "source": [
    "print(\"Average temp of first week \", str(sum(temp[0:7])/7))"
   ]
  },
  {
   "cell_type": "code",
   "execution_count": 24,
   "id": "a221cdc7",
   "metadata": {
    "scrolled": true
   },
   "outputs": [
    {
     "data": {
      "text/plain": [
       "32"
      ]
     },
     "execution_count": 24,
     "metadata": {},
     "output_type": "execute_result"
    }
   ],
   "source": [
    "max(temp)"
   ]
  },
  {
   "cell_type": "markdown",
   "id": "e650155c",
   "metadata": {},
   "source": [
    "## nyc_weather.csv contains new york city weather for first few days in the month of January. Write a program that can answer following,\n",
    "#### What was the temperature on Jan 9?\n",
    "#### What was the temperature on Jan 4?\n",
    "Figure out data structure that is best for this problem"
   ]
  },
  {
   "cell_type": "code",
   "execution_count": 27,
   "id": "d91d7c81",
   "metadata": {},
   "outputs": [
    {
     "name": "stdout",
     "output_type": "stream",
     "text": [
      "invalid temp, ignore it\n"
     ]
    },
    {
     "data": {
      "text/plain": [
       "{'1-Jan': 12,\n",
       " '2-Jan': 14,\n",
       " '3-Jan': 17,\n",
       " '4-Jan': 22,\n",
       " '5-Jan': 23,\n",
       " '6-Jan': 24,\n",
       " '7-Jan': 21,\n",
       " '8-Jan': 11,\n",
       " '9-Jan': 18,\n",
       " '10-Jan': 32}"
      ]
     },
     "execution_count": 27,
     "metadata": {},
     "output_type": "execute_result"
    }
   ],
   "source": [
    "weather = {}\n",
    "f = open(\"weather.csv\", \"r\")\n",
    "for line in f:\n",
    "    tokens = line.split(',')\n",
    "    try:\n",
    "           weather[tokens[0]] = int(tokens[1])\n",
    "    except:\n",
    "        print(\"invalid temp, ignore it\")\n",
    "weather\n",
    "    "
   ]
  },
  {
   "cell_type": "code",
   "execution_count": 28,
   "id": "868e0309",
   "metadata": {},
   "outputs": [
    {
     "data": {
      "text/plain": [
       "18"
      ]
     },
     "execution_count": 28,
     "metadata": {},
     "output_type": "execute_result"
    }
   ],
   "source": [
    "weather['9-Jan']"
   ]
  },
  {
   "cell_type": "code",
   "execution_count": 29,
   "id": "f7ec475a",
   "metadata": {},
   "outputs": [
    {
     "data": {
      "text/plain": [
       "22"
      ]
     },
     "execution_count": 29,
     "metadata": {},
     "output_type": "execute_result"
    }
   ],
   "source": [
    "weather['4-Jan']"
   ]
  },
  {
   "cell_type": "markdown",
   "id": "5d8712ad",
   "metadata": {},
   "source": [
    "### poem.txt Contains famous poem \"Road not taken\" by poet Robert Frost. You have to read this file in python and print every word and its count as show below. Think about the best data structure that you can use to solve this problem and figure out why you selected that specific data structure."
   ]
  },
  {
   "cell_type": "code",
   "execution_count": 40,
   "id": "f45fe69b",
   "metadata": {},
   "outputs": [
    {
     "name": "stdout",
     "output_type": "stream",
     "text": [
      "Two roads diverged in a yellow wood,\n",
      "\n",
      "And sorry I could not travel both\n",
      "\n",
      "And be one traveler, long I stood\n",
      "\n",
      "And looked down one as far as I could\n",
      "\n",
      "To where it bent in the undergrowth;\n",
      "\n",
      "\n",
      "\n",
      "Then took the other, as just as fair,\n",
      "\n",
      "And having perhaps the better claim,\n",
      "\n",
      "Because it was grassy and wanted wear;\n",
      "\n",
      "Though as for that the passing there\n",
      "\n",
      "Had worn them really about the same,\n",
      "\n",
      "\n",
      "\n",
      "And both that morning equally lay\n",
      "\n",
      "In leaves no step had trodden black.\n",
      "\n",
      "Oh, I kept the first for another day!\n",
      "\n",
      "Yet knowing how way leads on to way,\n",
      "\n",
      "I doubted if I should ever come back.\n",
      "\n",
      "\n",
      "\n",
      "I shall be telling this with a sigh\n",
      "\n",
      "Somewhere ages and ages hence:\n",
      "\n",
      "Two roads diverged in a wood, and Iâ€”\n",
      "\n",
      "I took the one less traveled by,\n",
      "\n",
      "And that has made all the difference.\n"
     ]
    }
   ],
   "source": [
    "txt_file = open(\"poem.txt\",\"r\")\n",
    "for line in txt_file:\n",
    "    print(line)"
   ]
  },
  {
   "cell_type": "code",
   "execution_count": 45,
   "id": "1d1fe54c",
   "metadata": {},
   "outputs": [
    {
     "data": {
      "text/plain": [
       "{'Two': 2,\n",
       " 'roads': 2,\n",
       " 'diverged': 2,\n",
       " 'in': 3,\n",
       " 'a': 3,\n",
       " 'yellow': 1,\n",
       " 'wood,\\n': 1,\n",
       " 'And': 6,\n",
       " 'sorry': 1,\n",
       " 'I': 8,\n",
       " 'could': 1,\n",
       " 'not': 1,\n",
       " 'travel': 1,\n",
       " 'both\\n': 1,\n",
       " 'be': 2,\n",
       " 'one': 3,\n",
       " 'traveler,': 1,\n",
       " 'long': 1,\n",
       " 'stood\\n': 1,\n",
       " 'looked': 1,\n",
       " 'down': 1,\n",
       " 'as': 5,\n",
       " 'far': 1,\n",
       " 'could\\n': 1,\n",
       " 'To': 1,\n",
       " 'where': 1,\n",
       " 'it': 2,\n",
       " 'bent': 1,\n",
       " 'the': 8,\n",
       " 'undergrowth;\\n': 1,\n",
       " '\\n': 3,\n",
       " 'Then': 1,\n",
       " 'took': 2,\n",
       " 'other,': 1,\n",
       " 'just': 1,\n",
       " 'fair,\\n': 1,\n",
       " 'having': 1,\n",
       " 'perhaps': 1,\n",
       " 'better': 1,\n",
       " 'claim,\\n': 1,\n",
       " 'Because': 1,\n",
       " 'was': 1,\n",
       " 'grassy': 1,\n",
       " 'and': 3,\n",
       " 'wanted': 1,\n",
       " 'wear;\\n': 1,\n",
       " 'Though': 1,\n",
       " 'for': 2,\n",
       " 'that': 3,\n",
       " 'passing': 1,\n",
       " 'there\\n': 1,\n",
       " 'Had': 1,\n",
       " 'worn': 1,\n",
       " 'them': 1,\n",
       " 'really': 1,\n",
       " 'about': 1,\n",
       " 'same,\\n': 1,\n",
       " 'both': 1,\n",
       " 'morning': 1,\n",
       " 'equally': 1,\n",
       " 'lay\\n': 1,\n",
       " 'In': 1,\n",
       " 'leaves': 1,\n",
       " 'no': 1,\n",
       " 'step': 1,\n",
       " 'had': 1,\n",
       " 'trodden': 1,\n",
       " 'black.\\n': 1,\n",
       " 'Oh,': 1,\n",
       " 'kept': 1,\n",
       " 'first': 1,\n",
       " 'another': 1,\n",
       " 'day!\\n': 1,\n",
       " 'Yet': 1,\n",
       " 'knowing': 1,\n",
       " 'how': 1,\n",
       " 'way': 1,\n",
       " 'leads': 1,\n",
       " 'on': 1,\n",
       " 'to': 1,\n",
       " 'way,\\n': 1,\n",
       " 'doubted': 1,\n",
       " 'if': 1,\n",
       " 'should': 1,\n",
       " 'ever': 1,\n",
       " 'come': 1,\n",
       " 'back.\\n': 1,\n",
       " 'shall': 1,\n",
       " 'telling': 1,\n",
       " 'this': 1,\n",
       " 'with': 1,\n",
       " 'sigh\\n': 1,\n",
       " 'Somewhere': 1,\n",
       " 'ages': 2,\n",
       " 'hence:\\n': 1,\n",
       " 'wood,': 1,\n",
       " 'Iâ€”\\n': 1,\n",
       " 'less': 1,\n",
       " 'traveled': 1,\n",
       " 'by,\\n': 1,\n",
       " 'has': 1,\n",
       " 'made': 1,\n",
       " 'all': 1,\n",
       " 'difference.': 1}"
      ]
     },
     "execution_count": 45,
     "metadata": {},
     "output_type": "execute_result"
    }
   ],
   "source": [
    "words = {}\n",
    "txt_file = open(\"poem.txt\",\"r\")\n",
    "for line in txt_file:\n",
    "    tokens = line.split(' ')\n",
    "    for token in tokens:\n",
    "        if token in words:\n",
    "            words[token] +=1\n",
    "        else:\n",
    "            words[token] = 1\n",
    "words"
   ]
  },
  {
   "cell_type": "markdown",
   "id": "9f04a95e",
   "metadata": {},
   "source": [
    "## Implement hash table where collisions are handled using linear probing. Keep MAX size of arr in hashtable as 10."
   ]
  },
  {
   "cell_type": "code",
   "execution_count": 138,
   "id": "901950e4",
   "metadata": {},
   "outputs": [],
   "source": [
    "\n",
    "class HashTable:\n",
    "    def __init__(self):\n",
    "        self.MAX = 10\n",
    "        self.arr = [None for i in range(10)]\n",
    "    \n",
    "    def get_hash(self, key):\n",
    "        hash = 0\n",
    "        for char in key:\n",
    "            hash += ord(char)\n",
    "        return hash%self.MAX\n",
    "    \n",
    "    def __setitem__(self,key,val):\n",
    "        hash = self.get_hash(key)\n",
    "        if(self.arr[hash] is None):\n",
    "            self.arr[hash] = (key,val)\n",
    "            return\n",
    "        elif (self.arr[hash][0]==key):\n",
    "            self.arr[hash] = (key,val)\n",
    "            return\n",
    "        else:\n",
    "            flag = False\n",
    "            for i in ([*range(hash+1,self.MAX)]+ [*range(0,hash)]):\n",
    "                if(self.arr[i] is None):\n",
    "                    self.arr[i] = (key,val)\n",
    "                    flag = True\n",
    "                    return\n",
    "                elif (self.arr[i][0]==key):\n",
    "                    self.arr[i] = (key,val)\n",
    "                    flag = True\n",
    "                    return\n",
    "            if not flag:\n",
    "                print(\"Hash Table is full\")\n",
    "                return\n",
    "    def __getitem__(self, key):\n",
    "        hash = self.get_hash(key)\n",
    "        return self.arr[hash][1]\n",
    "                    \n",
    "            \n",
    "        \n",
    "    "
   ]
  },
  {
   "cell_type": "code",
   "execution_count": 139,
   "id": "b0ed213b",
   "metadata": {},
   "outputs": [
    {
     "data": {
      "text/plain": [
       "[('march 17', 88),\n",
       " None,\n",
       " None,\n",
       " None,\n",
       " None,\n",
       " None,\n",
       " None,\n",
       " None,\n",
       " None,\n",
       " ('march 6', 20)]"
      ]
     },
     "execution_count": 139,
     "metadata": {},
     "output_type": "execute_result"
    }
   ],
   "source": [
    "t = HashTable()\n",
    "t[\"march 6\"] = 20\n",
    "t[\"march 17\"] =  88\n",
    "t.arr"
   ]
  },
  {
   "cell_type": "code",
   "execution_count": 140,
   "id": "077c1ffe",
   "metadata": {},
   "outputs": [],
   "source": [
    "t[\"march 17\"] =  29\n"
   ]
  },
  {
   "cell_type": "code",
   "execution_count": 142,
   "id": "c1ced7d3",
   "metadata": {},
   "outputs": [
    {
     "data": {
      "text/plain": [
       "[('march 17', 459),\n",
       " ('march 8', 67),\n",
       " ('march 9', 4),\n",
       " None,\n",
       " None,\n",
       " None,\n",
       " None,\n",
       " None,\n",
       " None,\n",
       " ('march 6', 120)]"
      ]
     },
     "execution_count": 142,
     "metadata": {},
     "output_type": "execute_result"
    }
   ],
   "source": [
    "t[\"march 6\"] = 120\n",
    "t[\"march 8\"] = 67\n",
    "t[\"march 9\"] = 4\n",
    "t[\"march 17\"] = 459\n",
    "t.arr"
   ]
  },
  {
   "cell_type": "code",
   "execution_count": null,
   "id": "48ceef6a",
   "metadata": {},
   "outputs": [],
   "source": []
  },
  {
   "cell_type": "code",
   "execution_count": null,
   "id": "bf086299",
   "metadata": {},
   "outputs": [],
   "source": []
  },
  {
   "cell_type": "code",
   "execution_count": null,
   "id": "ae395212",
   "metadata": {},
   "outputs": [],
   "source": []
  },
  {
   "cell_type": "code",
   "execution_count": null,
   "id": "bf55dad0",
   "metadata": {},
   "outputs": [],
   "source": []
  },
  {
   "cell_type": "code",
   "execution_count": null,
   "id": "b5037570",
   "metadata": {},
   "outputs": [],
   "source": []
  }
 ],
 "metadata": {
  "kernelspec": {
   "display_name": "Python 3 (ipykernel)",
   "language": "python",
   "name": "python3"
  },
  "language_info": {
   "codemirror_mode": {
    "name": "ipython",
    "version": 3
   },
   "file_extension": ".py",
   "mimetype": "text/x-python",
   "name": "python",
   "nbconvert_exporter": "python",
   "pygments_lexer": "ipython3",
   "version": "3.9.7"
  }
 },
 "nbformat": 4,
 "nbformat_minor": 5
}
